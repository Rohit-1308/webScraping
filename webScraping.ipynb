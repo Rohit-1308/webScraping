{
 "cells": [
  {
   "cell_type": "code",
   "execution_count": 1,
   "metadata": {},
   "outputs": [
    {
     "ename": "ImportError",
     "evalue": "cannot import name 'Youtube' from 'pytube' (C:\\Users\\khala\\AppData\\Local\\Packages\\PythonSoftwareFoundation.Python.3.10_qbz5n2kfra8p0\\LocalCache\\local-packages\\Python310\\site-packages\\pytube\\__init__.py)",
     "output_type": "error",
     "traceback": [
      "\u001b[1;31m---------------------------------------------------------------------------\u001b[0m",
      "\u001b[1;31mImportError\u001b[0m                               Traceback (most recent call last)",
      "\u001b[1;32md:\\DSBDA\\groupc\\webScraping.ipynb Cell 1\u001b[0m in \u001b[0;36m1\n\u001b[1;32m----> <a href='vscode-notebook-cell:/d%3A/DSBDA/groupc/webScraping.ipynb#W0sZmlsZQ%3D%3D?line=0'>1</a>\u001b[0m \u001b[39mfrom\u001b[39;00m \u001b[39mpytube\u001b[39;00m \u001b[39mimport\u001b[39;00m Youtube\n\u001b[0;32m      <a href='vscode-notebook-cell:/d%3A/DSBDA/groupc/webScraping.ipynb#W0sZmlsZQ%3D%3D?line=1'>2</a>\u001b[0m link\u001b[39m=\u001b[39m\u001b[39m\"\u001b[39m\u001b[39mhttps://youtu.be/DOu3NxDLgBQ\u001b[39m\u001b[39m\"\u001b[39m\n\u001b[0;32m      <a href='vscode-notebook-cell:/d%3A/DSBDA/groupc/webScraping.ipynb#W0sZmlsZQ%3D%3D?line=2'>3</a>\u001b[0m yt\u001b[39m=\u001b[39mYoutube(link)\n",
      "\u001b[1;31mImportError\u001b[0m: cannot import name 'Youtube' from 'pytube' (C:\\Users\\khala\\AppData\\Local\\Packages\\PythonSoftwareFoundation.Python.3.10_qbz5n2kfra8p0\\LocalCache\\local-packages\\Python310\\site-packages\\pytube\\__init__.py)"
     ]
    }
   ],
   "source": [
    "from pytube import Youtube\n",
    "link=\"https://youtu.be/DOu3NxDLgBQ\"\n",
    "yt=Youtube(link)"
   ]
  }
 ],
 "metadata": {
  "kernelspec": {
   "display_name": "Python 3",
   "language": "python",
   "name": "python3"
  },
  "language_info": {
   "codemirror_mode": {
    "name": "ipython",
    "version": 3
   },
   "file_extension": ".py",
   "mimetype": "text/x-python",
   "name": "python",
   "nbconvert_exporter": "python",
   "pygments_lexer": "ipython3",
   "version": "3.10.11"
  },
  "orig_nbformat": 4
 },
 "nbformat": 4,
 "nbformat_minor": 2
}
